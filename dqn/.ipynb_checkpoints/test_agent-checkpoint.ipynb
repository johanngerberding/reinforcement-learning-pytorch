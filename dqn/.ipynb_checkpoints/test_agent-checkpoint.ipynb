{
 "cells": [
  {
   "cell_type": "code",
   "execution_count": 18,
   "id": "161bc38e",
   "metadata": {},
   "outputs": [],
   "source": [
    "import gym \n",
    "from gym import wrappers\n",
    "import time \n",
    "import os \n",
    "import numpy as np \n",
    "import torch\n",
    "from IPython import display\n",
    "import matplotlib\n",
    "import matplotlib.pyplot as plt\n",
    "%matplotlib inline\n",
    "\n",
    "from atari_wrappers import generate_env\n",
    "from dqn import DQN_Conv"
   ]
  },
  {
   "cell_type": "code",
   "execution_count": 19,
   "id": "f8fbce38",
   "metadata": {},
   "outputs": [
    {
     "data": {
      "text/plain": [
       "device(type='cuda')"
      ]
     },
     "execution_count": 19,
     "metadata": {},
     "output_type": "execute_result"
    }
   ],
   "source": [
    "device = torch.device(\"cuda\" if torch.cuda.is_available() else \"cpu\")\n",
    "device"
   ]
  },
  {
   "cell_type": "code",
   "execution_count": 20,
   "id": "eb907d91",
   "metadata": {},
   "outputs": [],
   "source": [
    "env_name = \"PongNoFrameskip-v4\"\n",
    "fps = 25"
   ]
  },
  {
   "cell_type": "code",
   "execution_count": 21,
   "id": "1982be31",
   "metadata": {},
   "outputs": [],
   "source": [
    "root = \"/home/johann/sonstiges/reinforcement-learning-pytorch/dqn\"\n",
    "model_filepath = os.path.join(root, \"PongNoFrameskip-v4-best.pth\")\n",
    "out_dir = os.path.join(root, \"out\")"
   ]
  },
  {
   "cell_type": "code",
   "execution_count": 22,
   "id": "0e00b3e0",
   "metadata": {},
   "outputs": [],
   "source": [
    "os.makedirs(out_dir, exist_ok=True)"
   ]
  },
  {
   "cell_type": "code",
   "execution_count": 23,
   "id": "d9d60ad5",
   "metadata": {},
   "outputs": [],
   "source": [
    "env = generate_env(env_name)\n",
    "env = wrappers.Monitor(env, out_dir, force=True)"
   ]
  },
  {
   "cell_type": "code",
   "execution_count": 24,
   "id": "c82ec652",
   "metadata": {},
   "outputs": [
    {
     "data": {
      "text/plain": [
       "<All keys matched successfully>"
      ]
     },
     "execution_count": 24,
     "metadata": {},
     "output_type": "execute_result"
    }
   ],
   "source": [
    "Q_network = DQN_Conv(4, env.action_space.n).to(device)\n",
    "Q_network.load_state_dict(torch.load(model_filepath))"
   ]
  },
  {
   "cell_type": "code",
   "execution_count": 25,
   "id": "00f509e4",
   "metadata": {},
   "outputs": [],
   "source": [
    "state = env.reset()\n",
    "total_reward = 0.0"
   ]
  },
  {
   "cell_type": "code",
   "execution_count": 26,
   "id": "dff4d03f",
   "metadata": {},
   "outputs": [
    {
     "name": "stdout",
     "output_type": "stream",
     "text": [
      "Total reward: 21.0\n"
     ]
    },
    {
     "data": {
      "image/png": "[encoded data removed]",
      "text/plain": [
       "<Figure size 864x864 with 1 Axes>"
      ]
     },
     "metadata": {
      "needs_background": "light"
     },
     "output_type": "display_data"
    }
   ],
   "source": [
    "plt.figure(figsize=(12,12))\n",
    "img = plt.imshow(env.render(mode='rgb_array'))\n",
    "while True:\n",
    "    start_ts = time.time()\n",
    "    img.set_data(env.render(mode='rgb_array')) # just update the data\n",
    "    display.display(plt.gcf())\n",
    "    display.clear_output(wait=True)\n",
    "    state_v = torch.tensor(np.array([state], copy=False))\n",
    "    state_v = state_v.to(device)\n",
    "    q_vals = Q_network(state_v).cpu().data.numpy()[0]\n",
    "    action = np.argmax(q_vals)\n",
    "    \n",
    "    state, reward, done, _ = env.step(action)\n",
    "    total_reward += reward\n",
    "    if done:\n",
    "        break\n",
    "    \n",
    "    delta = 1 / fps - (time.time() - start_ts)\n",
    "    if delta > 0:\n",
    "        time.sleep(delta)\n",
    "\n",
    "print(f\"Total reward: {total_reward}\")"
   ]
  }
 ],
 "metadata": {
  "kernelspec": {
   "display_name": "Python 3 (ipykernel)",
   "language": "python",
   "name": "python3"
  },
  "language_info": {
   "codemirror_mode": {
    "name": "ipython",
    "version": 3
   },
   "file_extension": ".py",
   "mimetype": "text/x-python",
   "name": "python",
   "nbconvert_exporter": "python",
   "pygments_lexer": "ipython3",
   "version": "3.8.10"
  }
 },
 "nbformat": 4,
 "nbformat_minor": 5
}
